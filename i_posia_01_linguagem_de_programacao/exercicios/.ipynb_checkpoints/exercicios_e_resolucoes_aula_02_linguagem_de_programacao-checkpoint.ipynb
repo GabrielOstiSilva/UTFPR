{
 "cells": [
  {
   "cell_type": "markdown",
   "id": "0aaa2f9c-db88-4a97-a218-a7349d3314f8",
   "metadata": {},
   "source": [
    "# Exercícios e Resoluções Aula 02 - Linguagem de Programação"
   ]
  },
  {
   "cell_type": "markdown",
   "id": "9ba0fd03-5c14-42ff-849c-b31084aa5918",
   "metadata": {},
   "source": [
    "Associe corretamente os modos de execução em Python.\n",
    "\n",
    "* executa um programa Python contido em um arquivo -------------------------------------------------------> Modo Script\n",
    "\n",
    "* dá feedback imediato para cada instrução inserida e considera comandos previamente inseridos --------> Modo Interativo"
   ]
  },
  {
   "cell_type": "markdown",
   "id": "8e20b170-5efd-4aa0-8d67-b944326edeef",
   "metadata": {},
   "source": [
    "*---------------------------------------------------------------------------------------------------------------------------------------------------------------------------------------------------------------*"
   ]
  },
  {
   "cell_type": "markdown",
   "id": "d85dd738-4a76-41c0-a258-5e84d1034f0b",
   "metadata": {},
   "source": [
    "Qual comando pode ser usado para ver a versão do Python 3 instalada?\n",
    "\n",
    "Resposta: python3 -V"
   ]
  },
  {
   "cell_type": "markdown",
   "id": "98d4fb5a-aa81-4139-89db-70aebb95e147",
   "metadata": {},
   "source": [
    "*---------------------------------------------------------------------------------------------------------------------------------------------------------------------------------------------------------------*"
   ]
  },
  {
   "cell_type": "markdown",
   "id": "2ca3dc87-dd88-47bd-813f-759144d0c9c3",
   "metadata": {},
   "source": [
    "Em muitos casos, o Python indica erros e sugestões para correção de erros. \n",
    "\n",
    "Na figura abaixo, ocorreu um erro na linha 1 em que o comando print (sem parênteses) foi invocado no Python 3. Isso gerou um erro, pois o comando print no Python 3 é uma função e deveria ser chamado usando print(\"Olá mundo\").\n",
    "\n",
    "![print_ola_mundo.png](print_ola_mundo.png)"
   ]
  },
  {
   "cell_type": "markdown",
   "id": "38985a69-e161-4c59-b934-0e18643ac26a",
   "metadata": {},
   "source": [
    "Escolha uma opção:\n",
    "\n",
    "* (X) Verdadeiro\n",
    "* (_) Falso "
   ]
  },
  {
   "cell_type": "markdown",
   "id": "9b500048-bfc4-4ecf-b7d7-bae3b61ef4c9",
   "metadata": {},
   "source": [
    "*---------------------------------------------------------------------------------------------------------------------------------------------------------------------------------------------------------------*"
   ]
  },
  {
   "cell_type": "markdown",
   "id": "fcef7b5d-1e15-40bc-b20c-a2b43c9a005f",
   "metadata": {},
   "source": [
    "O Python está disponível para download para os sistemas operacionais Windows, Linux e MacOS.\n",
    "\n",
    "Escolha uma opção:\n",
    "\n",
    "* (X) Verdadeiro\n",
    "* (_) Falso "
   ]
  },
  {
   "cell_type": "code",
   "execution_count": 5,
   "id": "082e5aaa-29e6-4b50-a6a8-8c554dbf192c",
   "metadata": {},
   "outputs": [
    {
     "data": {
      "text/plain": [
       "'C:\\\\Users\\\\gabri\\\\Documents\\\\repos\\\\temp'"
      ]
     },
     "execution_count": 5,
     "metadata": {},
     "output_type": "execute_result"
    }
   ],
   "source": [
    "pwd!"
   ]
  }
 ],
 "metadata": {
  "kernelspec": {
   "display_name": "Python 3 (ipykernel)",
   "language": "python",
   "name": "python3"
  },
  "language_info": {
   "codemirror_mode": {
    "name": "ipython",
    "version": 3
   },
   "file_extension": ".py",
   "mimetype": "text/x-python",
   "name": "python",
   "nbconvert_exporter": "python",
   "pygments_lexer": "ipython3",
   "version": "3.9.7"
  }
 },
 "nbformat": 4,
 "nbformat_minor": 5
}
