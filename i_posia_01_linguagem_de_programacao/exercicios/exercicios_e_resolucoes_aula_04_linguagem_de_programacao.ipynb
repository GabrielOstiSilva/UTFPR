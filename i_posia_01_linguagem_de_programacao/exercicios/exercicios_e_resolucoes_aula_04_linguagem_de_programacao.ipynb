{
 "cells": [
  {
   "cell_type": "markdown",
   "id": "1dad3760",
   "metadata": {},
   "source": [
    "# Exercícios e Resoluções Aula 04 - Linguagem de Programação"
   ]
  },
  {
   "cell_type": "markdown",
   "id": "7581bf71",
   "metadata": {},
   "source": [
    "Associe corretamente.\n",
    "\n",
    "```print(math.trunc(6.1))``` --------------- Resposta 6\n",
    "\n",
    "```print(math.floor(90.6))``` -------------- Resposta 90\n",
    " \n",
    "```print(math.factorial(5))``` ------------- Resposta 120\n",
    " \n",
    "```print(math.ceil(90.6))``` --------------- Resposta 91"
   ]
  },
  {
   "cell_type": "code",
   "execution_count": 1,
   "id": "2bbd1290",
   "metadata": {},
   "outputs": [
    {
     "name": "stdout",
     "output_type": "stream",
     "text": [
      "6\n",
      "90\n",
      "120\n",
      "91\n"
     ]
    }
   ],
   "source": [
    "import math\n",
    "print(math.trunc(6.1))\n",
    "print(math.floor(90.6))\n",
    "print(math.factorial(5))\n",
    "print(math.ceil(90.6))"
   ]
  },
  {
   "cell_type": "markdown",
   "id": "67ee4971",
   "metadata": {},
   "source": [
    "**---------------------------------------------------------------------------------------------------------------------------------------------------------------------------------------------------------------**"
   ]
  },
  {
   "cell_type": "markdown",
   "id": "5b9d9e21",
   "metadata": {},
   "source": [
    "Considere o código abaixo:\n",
    "\n",
    "```\n",
    "y = -10.5  \n",
    "print(abs(y))\n",
    "z = int(y)  \n",
    "print(z)\n",
    "x = divmod(z, 2)  \n",
    "print(x)\n",
    "```\n",
    "\n",
    "Qual das alternativas abaixo representa a saída correta deste programa?\n",
    "\n",
    "\n",
    "* (_) a. 10.5  \n",
    "10  \n",
    "(5, 0)\n",
    "\n",
    "* (X) b. 10.5  \n",
    "\\-10  \n",
    "(-5, 0)  \n",
    "\n",
    "\n",
    "* (_) c. 10.5  \n",
    "\\-10  \n",
    "(0, 5)\n",
    "\n",
    "* (_) d. 10  \n",
    "\\-10  \n",
    "(-5, 0)  "
   ]
  },
  {
   "cell_type": "code",
   "execution_count": 2,
   "id": "5717d723",
   "metadata": {},
   "outputs": [
    {
     "name": "stdout",
     "output_type": "stream",
     "text": [
      "10.5\n",
      "-10\n",
      "(-5, 0)\n"
     ]
    }
   ],
   "source": [
    "y = -10.5  \n",
    "print(abs(y))\n",
    "\n",
    "z = int(y)  \n",
    "print(z)\n",
    "\n",
    "x = divmod(z, 2)  \n",
    "print(x)"
   ]
  },
  {
   "cell_type": "markdown",
   "id": "6ad542bb",
   "metadata": {},
   "source": [
    "**---------------------------------------------------------------------------------------------------------------------------------------------------------------------------------------------------------------**"
   ]
  },
  {
   "cell_type": "markdown",
   "id": "26f9a595",
   "metadata": {},
   "source": [
    "Considere o código abaixo:  \n",
    "```\n",
    "x = 20\n",
    "x += 30\n",
    "print(x)\n",
    "x -= 10\n",
    "print(x)\n",
    "x /= 2\n",
    "print(x)\n",
    "x **= 2\n",
    "print(x)\n",
    "x %= 2\n",
    "print(x)\n",
    "```\n",
    "\n",
    "Qual das alternativas abaixo representa corretamente a saída deste programa?\n",
    "\n",
    "* (X) a. 50  \n",
    "40  \n",
    "20  \n",
    "400  \n",
    "0  \n",
    "\n",
    "* (_) b. 50  \n",
    "40  \n",
    "20  \n",
    "40  \n",
    "200  \n",
    "\n",
    "* (_) c. 50   \n",
    "40  \n",
    "20  \n",
    "40  \n",
    "0  \n",
    "* (_) d. 50  \n",
    "40  \n",
    "20  \n",
    "400  \n",
    "200"
   ]
  },
  {
   "cell_type": "code",
   "execution_count": 3,
   "id": "92057cd7",
   "metadata": {},
   "outputs": [
    {
     "name": "stdout",
     "output_type": "stream",
     "text": [
      "50\n",
      "40\n",
      "20.0\n",
      "400.0\n",
      "0.0\n"
     ]
    }
   ],
   "source": [
    "x = 20  \n",
    "x += 30  \n",
    "print(x)  \n",
    "x -= 10  \n",
    "print(x)  \n",
    "x /= 2  \n",
    "print(x)  \n",
    "x **= 2  \n",
    "print(x)  \n",
    "x %= 2  \n",
    "print(x)"
   ]
  },
  {
   "cell_type": "markdown",
   "id": "5e6d8be6",
   "metadata": {},
   "source": [
    "**---------------------------------------------------------------------------------------------------------------------------------------------------------------------------------------------------------------**"
   ]
  },
  {
   "cell_type": "markdown",
   "id": "3500fb30",
   "metadata": {},
   "source": [
    "Considere o código:\n",
    "```\n",
    "a = 10\n",
    "b = 9\n",
    "c = 15\n",
    "\n",
    "print((a > b) and (c < a))  \n",
    "print((b < c) and (a >= c))  \n",
    "print((a < b) or (c < b))  \n",
    "print((a > c) or (c > b))\n",
    "```\n",
    "\n",
    "Qual das alternativas abaixo representa a saída correta das operações lógicas e de comparação acima?\n",
    "\n",
    "* (_) a.False, False, False, False\n",
    "\n",
    "* (X) b.False, False, False, True\n",
    "\n",
    "* (_) c.True, False, True, False\n",
    "\n",
    "* (_) d.False, False, True, True"
   ]
  },
  {
   "cell_type": "code",
   "execution_count": 4,
   "id": "d3ab8f2c",
   "metadata": {},
   "outputs": [
    {
     "name": "stdout",
     "output_type": "stream",
     "text": [
      "False\n",
      "False\n",
      "False\n",
      "True\n"
     ]
    }
   ],
   "source": [
    "a = 10\n",
    "b = 9\n",
    "c = 15\n",
    "\n",
    "print((a > b) and (c < a))  \n",
    "print((b < c) and (a >= c))  \n",
    "print((a < b) or (c < b))  \n",
    "print((a > c) or (c > b))"
   ]
  },
  {
   "cell_type": "markdown",
   "id": "85b552fd",
   "metadata": {},
   "source": [
    "**---------------------------------------------------------------------------------------------------------------------------------------------------------------------------------------------------------------**"
   ]
  },
  {
   "cell_type": "markdown",
   "id": "fe43ff7d",
   "metadata": {},
   "source": [
    "Considere o seguinte código:\n",
    "```\n",
    "a = (10, 20, 30, 40, 50)\n",
    "b = 20\n",
    "c = 60\n",
    "\n",
    "print(b in a)\n",
    "print(c in a)\n",
    "print(b in a and c in a)\n",
    "print(b in a or c in a)\n",
    "```\n",
    "\n",
    "Ao executar esse código, qual das alternativas abaixo representa a saída correta?\n",
    "\n",
    "* (_) a.True, False, True, True\n",
    "\n",
    "* (_) b.True, False, False, False\n",
    "\n",
    "* (X) c.True, False, False, True\n",
    "\n",
    "* (_) d.True, True, True, True"
   ]
  },
  {
   "cell_type": "code",
   "execution_count": 5,
   "id": "4846ba41",
   "metadata": {},
   "outputs": [
    {
     "name": "stdout",
     "output_type": "stream",
     "text": [
      "True\n",
      "False\n",
      "False\n",
      "True\n"
     ]
    }
   ],
   "source": [
    "a = (10, 20, 30, 40, 50)\n",
    "b = 20\n",
    "c = 60\n",
    "\n",
    "print(b in a)\n",
    "print(c in a)\n",
    "print(b in a and c in a)\n",
    "print(b in a or c in a)"
   ]
  },
  {
   "cell_type": "markdown",
   "id": "7bdbe5c7",
   "metadata": {},
   "source": [
    "**---------------------------------------------------------------------------------------------------------------------------------------------------------------------------------------------------------------**"
   ]
  },
  {
   "cell_type": "markdown",
   "id": "4fd2a568",
   "metadata": {},
   "source": [
    "Considere o seguinte código:\n",
    "\n",
    "```\n",
    "a = 6\n",
    "b = 2\n",
    "\n",
    "print(a**b)\n",
    "print(a//b)\n",
    "print(a%b)\n",
    "```\n",
    "\n",
    "Qual das alternativas abaixo representa corretamente a saída do programa acima?\n",
    "\n",
    "* (_) a. 36  \n",
    "0  \n",
    "\\\n",
    "30  \n",
    "\n",
    "* (X) b.36  \n",
    "3  \n",
    "\\\n",
    "0  \n",
    "\n",
    "* (_) c.12  \n",
    "3  \n",
    "\\\n",
    "0  \n",
    "\n",
    "* (_) d.12  \n",
    "0  \n",
    "\\\n",
    "3  "
   ]
  },
  {
   "cell_type": "code",
   "execution_count": 6,
   "id": "c47f5ef9",
   "metadata": {},
   "outputs": [
    {
     "name": "stdout",
     "output_type": "stream",
     "text": [
      "36\n",
      "3\n",
      "0\n"
     ]
    }
   ],
   "source": [
    "a = 6\n",
    "b = 2\n",
    "\n",
    "print(a**b)\n",
    "print(a//b)\n",
    "print(a%b)"
   ]
  }
 ],
 "metadata": {
  "kernelspec": {
   "display_name": "Python 3 (ipykernel)",
   "language": "python",
   "name": "python3"
  },
  "language_info": {
   "codemirror_mode": {
    "name": "ipython",
    "version": 3
   },
   "file_extension": ".py",
   "mimetype": "text/x-python",
   "name": "python",
   "nbconvert_exporter": "python",
   "pygments_lexer": "ipython3",
   "version": "3.9.7"
  }
 },
 "nbformat": 4,
 "nbformat_minor": 5
}
