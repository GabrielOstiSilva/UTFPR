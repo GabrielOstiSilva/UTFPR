{
 "cells": [
  {
   "cell_type": "markdown",
   "id": "51a91c70",
   "metadata": {},
   "source": [
    "# Exercícios e Resoluções Aula 01 - Linguagem de Programação"
   ]
  },
  {
   "cell_type": "markdown",
   "id": "83402841",
   "metadata": {},
   "source": [
    "Uma máquina virtual Python é responsável por converter bytecode  em instruções que possam ser executadas no computador.\n",
    "\n",
    "Escolha uma opção:\n",
    "\n",
    "- [X] Verdadeiro\n",
    "- [ ] Falso "
   ]
  },
  {
   "cell_type": "markdown",
   "id": "cead5b41",
   "metadata": {},
   "source": [
    "**---------------------------------------------------------------------------------------------------------------------------------------------------------------------------------------------------------------**"
   ]
  },
  {
   "cell_type": "markdown",
   "id": "590c3d7d",
   "metadata": {},
   "source": [
    "Assinale as características da linguagem Python\n",
    "\n",
    "\n",
    "- [ ] a.Não é possível ter acesso ao código fonte do Python\n",
    "- [X] b.Tipagem dinâmica de dados (checagem do tipo de dado em tempo de execução)\n",
    "- [ ] c.Tipagem estática de dados (checagem do tipo de dado durante a compilação)\n",
    "- [ ] d.Linguagem de baixo nível\n",
    "- [X] e.Usa uma máquina virtual para executar bytecodes\n",
    "- [X] f.Suporte a orientação a objetos"
   ]
  },
  {
   "cell_type": "markdown",
   "id": "c7efc482",
   "metadata": {},
   "source": [
    "**---------------------------------------------------------------------------------------------------------------------------------------------------------------------------------------------------------------**"
   ]
  },
  {
   "cell_type": "markdown",
   "id": "35508eb4",
   "metadata": {},
   "source": [
    "As propostas de melhorias na linguagem Python estão sumarizadas no Python Enhancement Proposals (PEP).\n",
    "\n",
    "Escolha uma opção:\n",
    "    \n",
    "- [X] Verdadeiro \n",
    "- [ ] Falso"
   ]
  },
  {
   "cell_type": "markdown",
   "id": "79426a3b",
   "metadata": {},
   "source": [
    "**---------------------------------------------------------------------------------------------------------------------------------------------------------------------------------------------------------------**"
   ]
  },
  {
   "cell_type": "markdown",
   "id": "f1745b5c",
   "metadata": {},
   "source": [
    "Quais das alternativas abaixo estão associadas à versão 3 do Python?\n",
    "\n",
    "- [X] a.Exceções são classes que contém informações relativas ao erro gerado.\n",
    "- [X] b.print é uma função.\n",
    "- [X] c.Códigos de Python 3 não são compatíveis com Python 2.\n",
    "- [ ] d.Exceções são lançadas como string."
   ]
  },
  {
   "cell_type": "markdown",
   "id": "2d4e9dd9",
   "metadata": {},
   "source": [
    "**---------------------------------------------------------------------------------------------------------------------------------------------------------------------------------------------------------------**"
   ]
  },
  {
   "cell_type": "markdown",
   "id": "9740862c",
   "metadata": {},
   "source": [
    "# Links úteis"
   ]
  },
  {
   "cell_type": "markdown",
   "id": "7c35e079",
   "metadata": {},
   "source": [
    "* https://eds.s.ebscohost.com/eds/ebookviewer/ebook/ZTAwMHh3d19fMTk5MTM4MV9fQU41?sid=9d428057-cd06-4912-8a0e-7eb9c0636a61@redis&vid=0&format=EB\n",
    "\n",
    "* https://peps.python.org/\n",
    "\n",
    "* https://www.python.org/downloads/"
   ]
  }
 ],
 "metadata": {
  "kernelspec": {
   "display_name": "Python 3 (ipykernel)",
   "language": "python",
   "name": "python3"
  },
  "language_info": {
   "codemirror_mode": {
    "name": "ipython",
    "version": 3
   },
   "file_extension": ".py",
   "mimetype": "text/x-python",
   "name": "python",
   "nbconvert_exporter": "python",
   "pygments_lexer": "ipython3",
   "version": "3.9.7"
  }
 },
 "nbformat": 4,
 "nbformat_minor": 5
}
