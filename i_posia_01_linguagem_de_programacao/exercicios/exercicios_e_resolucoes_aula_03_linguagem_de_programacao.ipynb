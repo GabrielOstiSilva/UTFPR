{
 "cells": [
  {
   "cell_type": "markdown",
   "id": "ba6c8f73",
   "metadata": {},
   "source": [
    "# Exercícios e Resoluções Aula 03 - Linguagem de Programação"
   ]
  },
  {
   "cell_type": "markdown",
   "id": "b12fef27",
   "metadata": {},
   "source": [
    "O Python não permite declarar uma constante.\n",
    "\n",
    "Escolha uma opção:\n",
    "* (X) Verdadeiro\n",
    "* (_) Falso "
   ]
  },
  {
   "cell_type": "markdown",
   "id": "cce1acfe",
   "metadata": {},
   "source": [
    "*---------------------------------------------------------------------------------------------------------------------------------------------------------------------------------------------------------------*"
   ]
  },
  {
   "cell_type": "markdown",
   "id": "6eda7bfb",
   "metadata": {},
   "source": [
    "A linguagem Python representa dados somente dos tipos numéricos, sequências de caracteres e objetos.\n",
    "\n",
    "Escolha uma opção:\n",
    "* (_) Verdadeiro\n",
    "* (X) Falso "
   ]
  },
  {
   "cell_type": "markdown",
   "id": "97c1754c",
   "metadata": {},
   "source": [
    "*---------------------------------------------------------------------------------------------------------------------------------------------------------------------------------------------------------------*"
   ]
  },
  {
   "cell_type": "markdown",
   "id": "ff7105ce",
   "metadata": {},
   "source": [
    "Qual alternativa representa corretamente a atribuição de um valor a uma variável em Python?\n",
    "* (_) a.myName <= \"John Smith\"\n",
    "* (_) b.myName == \"John Smith\"\n",
    "* (X) c.myName = \"John Smith\"\n",
    "* (_) d.myName <- \"John Smith\"\n"
   ]
  },
  {
   "cell_type": "markdown",
   "id": "6c5f190c",
   "metadata": {},
   "source": [
    "*---------------------------------------------------------------------------------------------------------------------------------------------------------------------------------------------------------------*"
   ]
  },
  {
   "cell_type": "markdown",
   "id": "8ba957be",
   "metadata": {},
   "source": [
    "Assinale a(s) alternativa(s) correta(s).\n",
    "* (X) a.Para comentar uma linha de código em Python utiliza-se o caracter #\n",
    "* (_) b.Para comentar uma linha de código em Python utiliza-se o caracter //\n",
    "* (_) c.Para comentar um bloco de código em Python, envolve-se o bloco a ser comentado entre os termos  /* e */.\n",
    "* (X) d.O Python não possui comentário de um bloco de código. Entretanto, pode-se envolver o código entre ''' (3 aspas simples) que serve para a documentação do código-fonte.\n"
   ]
  },
  {
   "cell_type": "markdown",
   "id": "b8d76963",
   "metadata": {},
   "source": [
    "*---------------------------------------------------------------------------------------------------------------------------------------------------------------------------------------------------------------*"
   ]
  },
  {
   "cell_type": "markdown",
   "id": "b76deafa",
   "metadata": {},
   "source": [
    "Qual das alternativas abaixo lê o nome, a altura e o peso de uma pessoa e mostra o valor do IMC no seguinte formato:\n",
    "\n",
    "**\" <nome_pessoa\\> tem <altura\\> metros e <peso\\> kg. O seu IMC é <imc\\>. \"**\n",
    "\n",
    "Lembrando que o cálculo do IMC é dado por IMC=peso/(altura*altura)\n",
    "* (_) a.nome = input(\"Digite o nome da pessoa: \")  \n",
    "peso = int(input(\"Digite o peso da pessoa: \"))  \n",
    "altura = float(input(\"Digite a altura da pessoa: \"))  \n",
    "imc = peso/(altura**2)  \n",
    "print(\"{} tem {} metros e {} kg. O seu IMC é {}.\".format(nome, altura, peso, imc))  \n",
    "* (_) b.nome = input(\"Digite o nome da pessoa: \")  \n",
    "peso = float(input(\"Digite o peso da pessoa: \"))  \n",
    "altura = float(input(\"Digite a altura da pessoa: \"))  \n",
    "imc = peso/(altura**2)  \n",
    "print(\"{0} tem {1} metros e {3} kg. O seu IMC é {2}.\".format(nome, altura, peso, imc))  \n",
    "* (X) c.nome = input(\"Digite o nome da pessoa: \")  \n",
    "peso = float(input(\"Digite o peso da pessoa: \"))  \n",
    "altura = float(input(\"Digite a altura da pessoa: \"))  \n",
    "imc = peso/(altura**2)  \n",
    "print(\"{} tem {} metros e {} kg. O seu IMC é {}.\".format(nome, altura, peso, imc))  \n",
    "* (_) d.nome = input(\"Digite o nome da pessoa: \")  \n",
    "peso = input(\"Digite o peso da pessoa: \")  \n",
    "altura = input(\"Digite a altura da pessoa: \")  \n",
    "imc = peso/(altura**2)  \n",
    "print(\"{} tem {} metros e {} kg. O seu IMC é {}.\".format(nome, altura, peso, imc))"
   ]
  },
  {
   "cell_type": "markdown",
   "id": "0fa84ef3",
   "metadata": {},
   "source": [
    "*---------------------------------------------------------------------------------------------------------------------------------------------------------------------------------------------------------------*"
   ]
  },
  {
   "cell_type": "markdown",
   "id": "dd290df5",
   "metadata": {},
   "source": [
    "Considere a seguinte sequência de comandos:\n",
    "\n",
    "```\n",
    "mensagem = \"esse ano irá fazer mais frio\".capitalize()  \n",
    "print(mensagem)\n",
    "\n",
    "time = \"spfc\".upper()  \n",
    "print(time) \n",
    "\n",
    "fruta = \"ABACAXI\".lower()  \n",
    "print(fruta)\n",
    "```\n",
    "\n",
    "Qual das alternativas abaixo, apresenta corretamente a saída dos comandos acima?  \n",
    "* (_) a.Esse Ano Irá Fazer Mais Frio  \n",
    "SPFC  \n",
    "abacaxi  \n",
    "* (_) b.Esse Ano Irá Fazer Mais Frio  \n",
    "spfc  \n",
    "ABACAXI  \n",
    "* (_) c.ESSE ANO IRÁ FAZER MAIS FRIO  \n",
    "Spfc  \n",
    "ABACAXI  \n",
    "* (X) d.Esse ano irá fazer mais frio;  \n",
    "SPFC  \n",
    "abacaxi  "
   ]
  },
  {
   "cell_type": "code",
   "execution_count": 1,
   "id": "562728ba",
   "metadata": {},
   "outputs": [
    {
     "name": "stdout",
     "output_type": "stream",
     "text": [
      "Esse ano irá fazer mais frio\n",
      "SPFC\n",
      "abacaxi\n"
     ]
    }
   ],
   "source": [
    "mensagem = \"esse ano irá fazer mais frio\".capitalize()  \n",
    "print(mensagem)\n",
    "\n",
    "time = \"spfc\".upper()  \n",
    "print(time) \n",
    "\n",
    "fruta = \"ABACAXI\".lower()  \n",
    "print(fruta)"
   ]
  },
  {
   "cell_type": "markdown",
   "id": "e77e0afc",
   "metadata": {},
   "source": [
    "*---------------------------------------------------------------------------------------------------------------------------------------------------------------------------------------------------------------*"
   ]
  },
  {
   "cell_type": "markdown",
   "id": "d108ec7e",
   "metadata": {},
   "source": [
    "Qual alternativa representa um conjunto de identificadores de variáveis válidos em Python?\n",
    "\n",
    "* (_) a.nota-1 = 5  \n",
    "nomeEstudante = \"John Smith\"  \n",
    "assert = 10  \n",
    "* (_) b.nota1 = 5  \n",
    "nome-estudante = \"JohnSmith\"  \n",
    "fetch=1  \n",
    "* (_) c.nota1 = 5  \n",
    "nomeestudante = \"John Smith\"  \n",
    "global=5  \n",
    "* (X) d.nota1 = 5  \n",
    "nomeEstudante = \"John Smith\"  \n",
    "peso = 50.6"
   ]
  },
  {
   "cell_type": "code",
   "execution_count": 2,
   "id": "e045fb5b",
   "metadata": {},
   "outputs": [],
   "source": [
    "nota1 = 5  \n",
    "nomeEstudante = \"John Smith\"  \n",
    "peso = 50.6"
   ]
  },
  {
   "cell_type": "markdown",
   "id": "d22a1ef9",
   "metadata": {},
   "source": [
    "*---------------------------------------------------------------------------------------------------------------------------------------------------------------------------------------------------------------*"
   ]
  },
  {
   "cell_type": "markdown",
   "id": "46dc58c3",
   "metadata": {},
   "source": [
    "Assinale a(s) alternativa(s) que contém declarações de strings válidas no Python.\n",
    "\n",
    "* (X) a.nome = 'Henrique'  \n",
    "sobrenome = 'Silva'  \n",
    "* (X) b.nome = \"Henrique\"  \n",
    "sobrenome = 'Silva'  \n",
    "* (_) c.nome = \"Henrique\"  \n",
    "sobrenome = \"\"Silva\"\"  \n",
    "* (X) d.nome = \"Henrique\"  \n",
    "sobrenome = \"Silva\""
   ]
  },
  {
   "cell_type": "code",
   "execution_count": 3,
   "id": "d67ff787",
   "metadata": {},
   "outputs": [],
   "source": [
    "nome = 'Henrique'  \n",
    "sobrenome = 'Silva'\n",
    "\n",
    "nome = \"Henrique\"  \n",
    "sobrenome = 'Silva' \n",
    "\n",
    "nome = \"Henrique\"  \n",
    "sobrenome = \"Silva\""
   ]
  },
  {
   "cell_type": "markdown",
   "id": "ceee87ab",
   "metadata": {},
   "source": [
    "*---------------------------------------------------------------------------------------------------------------------------------------------------------------------------------------------------------------*"
   ]
  },
  {
   "cell_type": "markdown",
   "id": "31438ead",
   "metadata": {},
   "source": [
    "Considere o seguinte código:\n",
    "\n",
    "```\n",
    "texto = \"Havia uma pedra no meio do caminho. No meio do caminho havia uma pedra.\"\n",
    "\n",
    "texto = texto.replace(\"pedra\", \"areia\")\n",
    "\n",
    "print(texto)\n",
    "```\n",
    "\n",
    "Qual alternativa apresenta a saída correta do código acima?\n",
    "\n",
    "\n",
    "* (X) a.Havia uma areia no meio do caminho. No meio do caminho havia uma areia.\n",
    "* (_) b.Havia uma pedra no meio do caminho. No meio do caminho havia uma areia.\n",
    "* (_) c.Havia uma pedra no meio do caminho. No meio do caminho havia uma pedra.\n",
    "* (_) d.Havia uma areia no meio do caminho. No meio do caminho havia uma pedra."
   ]
  },
  {
   "cell_type": "code",
   "execution_count": 4,
   "id": "7ea29c09",
   "metadata": {},
   "outputs": [
    {
     "name": "stdout",
     "output_type": "stream",
     "text": [
      "Havia uma areia no meio do caminho. No meio do caminho havia uma areia.\n"
     ]
    }
   ],
   "source": [
    "texto = \"Havia uma pedra no meio do caminho. No meio do caminho havia uma pedra.\"\n",
    "\n",
    "texto = texto.replace(\"pedra\", \"areia\")\n",
    "\n",
    "print(texto)"
   ]
  },
  {
   "cell_type": "markdown",
   "id": "960aa6aa",
   "metadata": {},
   "source": [
    "*---------------------------------------------------------------------------------------------------------------------------------------------------------------------------------------------------------------*"
   ]
  },
  {
   "cell_type": "markdown",
   "id": "aa9a2ac5",
   "metadata": {},
   "source": [
    "Qual função permite identificar o tipo de dado de um valor?\n",
    "* (_) a.asset()\n",
    "* (X) b.type()\n",
    "* (_) c.class()\n",
    "* (_) d.datatype()\n"
   ]
  },
  {
   "cell_type": "markdown",
   "id": "af7783ba",
   "metadata": {},
   "source": [
    "*---------------------------------------------------------------------------------------------------------------------------------------------------------------------------------------------------------------*"
   ]
  },
  {
   "cell_type": "markdown",
   "id": "7a62b8f3",
   "metadata": {},
   "source": [
    "Preencha corretamente o código que produza a seguinte saída:  \n",
    "Olá mundo\n",
    "\n",
    "print(\"Olá\" **+** \" \" **+** \"mundo\")"
   ]
  },
  {
   "cell_type": "markdown",
   "id": "f1aaf0b4",
   "metadata": {},
   "source": [
    "*---------------------------------------------------------------------------------------------------------------------------------------------------------------------------------------------------------------*"
   ]
  },
  {
   "cell_type": "markdown",
   "id": "c5bdea99",
   "metadata": {},
   "source": [
    "Implemente um código que atribua a string \"Fernando Silva\" a uma variável chamada nome. Em seguida, mostre na tela o valor contido na variável nome."
   ]
  },
  {
   "cell_type": "code",
   "execution_count": 3,
   "id": "84bf4608",
   "metadata": {},
   "outputs": [
    {
     "name": "stdout",
     "output_type": "stream",
     "text": [
      "Fernando Silva\n"
     ]
    }
   ],
   "source": [
    "nome=\"Fernando Silva\"\n",
    "print(nome)"
   ]
  }
 ],
 "metadata": {
  "kernelspec": {
   "display_name": "Python 3 (ipykernel)",
   "language": "python",
   "name": "python3"
  },
  "language_info": {
   "codemirror_mode": {
    "name": "ipython",
    "version": 3
   },
   "file_extension": ".py",
   "mimetype": "text/x-python",
   "name": "python",
   "nbconvert_exporter": "python",
   "pygments_lexer": "ipython3",
   "version": "3.9.7"
  }
 },
 "nbformat": 4,
 "nbformat_minor": 5
}
